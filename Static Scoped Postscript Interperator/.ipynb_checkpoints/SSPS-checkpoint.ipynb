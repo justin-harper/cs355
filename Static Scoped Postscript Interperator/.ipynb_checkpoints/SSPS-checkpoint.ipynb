{
 "cells": [
  {
   "cell_type": "code",
   "execution_count": 102,
   "metadata": {
    "collapsed": true
   },
   "outputs": [],
   "source": [
    "# Justin Harper\n",
    "# WSU ID: 10696738"
   ]
  },
  {
   "cell_type": "markdown",
   "metadata": {},
   "source": [
    "## Static Scoping Assignment (SSPS)\n",
    "### Cpts 355 - Spring 2016"
   ]
  },
  {
   "cell_type": "markdown",
   "metadata": {},
   "source": [
    "### Assigned April 4, 2016"
   ]
  },
  {
   "cell_type": "markdown",
   "metadata": {},
   "source": [
    "### Due Monday, April 18, 2016\n",
    "Continue to develop Static Scoped Post Script Interperter\n"
   ]
  },
  {
   "cell_type": "markdown",
   "metadata": {},
   "source": [
    "## Your Code Start Here"
   ]
  },
  {
   "cell_type": "code",
   "execution_count": 103,
   "metadata": {
    "collapsed": false
   },
   "outputs": [],
   "source": [
    "# The operand stack: define the operand stack and its operations in this notebook cell\n",
    "opstack = []\n",
    "# other globals for me to use\n",
    "var = ''\n",
    "brace = ''\n",
    "curly = False\n",
    "\n",
    "\n",
    "# now define functions to push and pop values on the opstack according to your decision about which\n",
    "# end should be the hot end. Recall that `pass` in python is a no-op: replace it with your code.\n",
    "\n",
    "def opPop(): \n",
    "    return opstack.pop()\n",
    "\n",
    "def opPush(value):\n",
    "    opstack.append(value)\n",
    "\n",
    "# Remember that there is a Postscript operator called \"pop\" so we choose different names for these functions.\n"
   ]
  },
  {
   "cell_type": "code",
   "execution_count": 104,
   "metadata": {
    "collapsed": true
   },
   "outputs": [],
   "source": [
    "# The dictionary stack: define the dictionary stack and its operations in this cell\n",
    "dstack = [{}]\n",
    "\n",
    "# now define functions to push and pop dictionaries on the dictstack, to define name, and to lookup a name\n",
    "\n",
    "def dictPop():\n",
    "    a = dstack.pop()\n",
    "    if(a == {}):\n",
    "        dictPush(a)\n",
    "        return {}\n",
    "    else:\n",
    "        return a\n",
    "    \n",
    "\n",
    "def dictPush(value):\n",
    "    dstack.append(value)\n",
    "\n",
    "def define(name, value):\n",
    "    a = opstack.pop()\n",
    "    b = opstack.pop()\n",
    "    x = dstack.pop()\n",
    "    x[b] = a\n",
    "    dstack.append(x)\n",
    "\n",
    "def lookup(name):\n",
    "    # return the value associated with name\n",
    "    # what is your design decision about what to do when there is no definition for name\n",
    "    \n",
    "    # need to determine if name is a number or a name\n",
    "    #if name.isdigit():\n",
    "    #    return name\n",
    "    global mustsearch\n",
    "    global ind\n",
    "    \n",
    "    if(ind >= 1):\n",
    "        uindD = dstack.pop()\n",
    "        indirectD = dstack.pop()\n",
    "        ind -= 1\n",
    "        result = lookup(name)\n",
    "        dstack.append(indirectD)\n",
    "        dstack.append(uindD)\n",
    "        return result   \n",
    "    \n",
    "    AD = dstack.pop()\n",
    "    if name in AD.keys():\n",
    "        if(switch == 'static' and mustsearch == True):\n",
    "            int += 1\n",
    "        result = AD[name]\n",
    "    elif (dstack and switch == 'static'):\n",
    "        mustsearch = True\n",
    "        result = lookup(name)\n",
    "    else:\n",
    "        result = name\n",
    "    dstack.append(AD)\n",
    "    return result    \n",
    "    \n",
    "        "
   ]
  },
  {
   "cell_type": "code",
   "execution_count": 105,
   "metadata": {
    "collapsed": false
   },
   "outputs": [],
   "source": [
    "# Arithmetic operators: define all the arithmetic operators in this cell -- add, sub, mul, div, eq, lt, gt\n",
    "\n",
    "def Equal():\n",
    "    lookup(opstack.pop())\n",
    "\n",
    "\n",
    "def Eq():\n",
    "    a = lookup(opstack.pop())\n",
    "    b = lookup(opstack.pop())\n",
    "    \n",
    "    if(a == b):\n",
    "        opstack.append(\"true\")\n",
    "    else:\n",
    "        opstack.append(\"false\")\n",
    "\n",
    "def Add():\n",
    "    a = lookup(opstack.pop())\n",
    "    b = lookup(opstack.pop())\n",
    "    sum = int(a) + int(b)\n",
    "    opstack.append(sum)\n",
    "    \n",
    "def Mul():\n",
    "    a = lookup(opstack.pop())\n",
    "    b = lookup(opstack.pop())\n",
    "    prod = int(a) * int(b)\n",
    "    opstack.append(prod)\n",
    "\n",
    "def Div():\n",
    "    a = lookup(opstack.pop())\n",
    "    b = lookup(opstack.pop())\n",
    "    \n",
    "    if(a == 0):\n",
    "        exit()\n",
    "    else:\n",
    "        quote = int(b) / int(a)\n",
    "        opstack.append(quote)\n",
    "    \n",
    "\n",
    "def Lt():\n",
    "    a = lookup(opstack.pop())\n",
    "    b = lookup(opstack.pop())\n",
    "    \n",
    "    if(b < a):\n",
    "        opstack.append(\"true\")\n",
    "    else:\n",
    "        opstack.append(\"false\")\n",
    "\n",
    "def Gt():\n",
    "    a = lookup(opstack.pop())\n",
    "    b = lookup(opstack.pop())\n",
    "    \n",
    "    if(b > a):\n",
    "        opstack.append(\"true\")\n",
    "    else:\n",
    "        opstack.append(\"false\")\n"
   ]
  },
  {
   "cell_type": "code",
   "execution_count": 106,
   "metadata": {
    "collapsed": true
   },
   "outputs": [],
   "source": [
    "# Boolean operators: define all the boolean operators in this cell -- and, or, not\n",
    "def And():\n",
    "    a = lookup(opstack.pop())\n",
    "    b = lookup(opstack.pop())\n",
    "    \n",
    "    if(a == 'true' and b == 'true'):\n",
    "        opstack.append('true')\n",
    "    else:\n",
    "        opstack.append('false')\n",
    "        \n",
    "def Not():\n",
    "    a = lookup(opstack.pop())\n",
    "    if(a == 'false'):\n",
    "        opstack.append('true')\n",
    "    else:\n",
    "        opstack.append('false')\n",
    "        \n",
    "def Or():\n",
    "    a = lookup(opstack.pop())\n",
    "    b = lookup(opstack.pop())\n",
    "    \n",
    "    if(a == 'true' or b == 'true'):\n",
    "        opstack.append('true')\n",
    "    else:\n",
    "        opstack.append('false')"
   ]
  },
  {
   "cell_type": "code",
   "execution_count": 107,
   "metadata": {
    "collapsed": true
   },
   "outputs": [],
   "source": [
    "# Define the stack manipulation operators in this cell: dup, exch, pop\n",
    "def Dup():\n",
    "    a = opstack.pop()\n",
    "    opstack.append(a)\n",
    "    opstack.append(a)\n",
    "    \n",
    "def Exch():\n",
    "    a = opstack.pop()\n",
    "    b = opstack.pop()\n",
    "    \n",
    "    opstack.append(a)\n",
    "    opstack.append(b)\n",
    "def Pop():\n",
    "    opstack.pop()"
   ]
  },
  {
   "cell_type": "code",
   "execution_count": 108,
   "metadata": {
    "collapsed": true
   },
   "outputs": [],
   "source": [
    "# Define the dictionary manipulation operators in this cell: dict, begin, end, def\n",
    "# name the function for the def operator psDef because def is reserved in Python\n",
    "def Dict():\n",
    "    # takes one operand from the operand stack, ignores it, and creates a new, empty dictionary on the operand stack\n",
    "    opstack.pop()\n",
    "    dstack.append({})\n",
    "    \n",
    "def Begin(d):\n",
    "    # begin pushes a dictionary on the dictionary stack\n",
    "    dstack.append(d)\n",
    "def End():\n",
    "    #  end removes a dictionary from the dictionary stack\n",
    "    dstack.pop()\n",
    "    \n",
    "def Def():\n",
    "    # def creates or modifies an entry in the top dictionary on the dictionary stack.\n",
    "    a = opstack.pop()\n",
    "    b = opstack.pop()\n",
    "    d = dstack.pop()\n",
    "    d[str(b)] = a\n",
    "    dstack.append(d)\n",
    "    "
   ]
  },
  {
   "cell_type": "code",
   "execution_count": 109,
   "metadata": {
    "collapsed": true
   },
   "outputs": [],
   "source": [
    "# Define the IF ELSE and ELSEIF operators\n",
    "# ELSE will be handled in processLine\n",
    "\n",
    "def If():\n",
    "    l = opstack.pop()\n",
    "    b = opstack.pop()\n",
    "    if b == 'true':\n",
    "        processLine(l[1:-1])\n",
    "        \n",
    "        \n",
    "def ElseIf():\n",
    "    lf = opstack.pop()\n",
    "    lt = opstack.pop()\n",
    "    b = opstack.pop()\n",
    "    \n",
    "    if b == 'true':\n",
    "        processLine(lt[1:-1])\n",
    "    else:\n",
    "        processLine(lf[1:-1])\n",
    "        \n",
    "    \n",
    "    \n"
   ]
  },
  {
   "cell_type": "code",
   "execution_count": 110,
   "metadata": {
    "collapsed": false
   },
   "outputs": [],
   "source": [
    "# Define processLine\n",
    "def processLine(line):\n",
    "    global brace\n",
    "    global var\n",
    "    global curly\n",
    "    \n",
    "    if(switch == 'static'):\n",
    "        dstack.append({})\n",
    "    \n",
    "    \n",
    "    for c in line.split():\n",
    "        if c[0] >='0' and c[0] <= '9':\n",
    "            opstack.append(int(c))\n",
    "        elif c == '{':\n",
    "            brace = c\n",
    "            curly = True\n",
    "        elif curly:\n",
    "            brace +=' '\n",
    "            brace += c\n",
    "            if  c == '}':\n",
    "                curly = False\n",
    "                opstack.append(brace)\n",
    "        elif c[0] == '/':\n",
    "            var = c[1:]\n",
    "            opstack.append(var)\n",
    "        \n",
    "        else:\n",
    "            handleIt(c)\n",
    "    if(switch == 'static'):\n",
    "        dstack.pop()"
   ]
  },
  {
   "cell_type": "code",
   "execution_count": 111,
   "metadata": {
    "collapsed": false
   },
   "outputs": [],
   "source": [
    "# Define the printing operators in this cell: =, stack\n",
    "# Pick a good name for the code implementing =\n",
    "def PrintOP():\n",
    "    print(opstack)\n",
    "\n",
    "def PrintD():\n",
    "    print(dstack)\n",
    "    \n",
    "def PrintVal():\n",
    "    a = lookup(opstack.pop())\n",
    "    print (a)"
   ]
  },
  {
   "cell_type": "code",
   "execution_count": 112,
   "metadata": {
    "collapsed": false
   },
   "outputs": [],
   "source": [
    "# Define handleIt()\n",
    "\n",
    "def handleIt(token):\n",
    "    print(token)\n",
    "    if token == '=': Equal()\n",
    "    #do logical stuff\n",
    "    elif token == 'and': And()\n",
    "    elif token == 'or' : Or()\n",
    "    elif token == 'eq' : Eq()\n",
    "    elif token == 'not': Not()\n",
    "    elif token == 'gt' : Gt()\n",
    "    elif token == 'lt' : Lt()\n",
    "    # do aritmatic stuff\n",
    "    elif token == 'add': Add()\n",
    "    elif token == 'sub': Sub()\n",
    "    elif token == 'mul': Mul()\n",
    "    elif token == 'div': Div()\n",
    "        \n",
    "    #not logical or math must be something else\n",
    "    elif token == 'stack': PrintOP()\n",
    "    elif token == 'if': If()\n",
    "    elif token == 'ifelse': ElseIf()\n",
    "    elif token == 'begin': Begin()\n",
    "    elif token == 'dup': Dup()\n",
    "    elif token == 'exch': Exch()\n",
    "    elif token == 'pop': Pop()\n",
    "    elif token == 'def': Def()\n",
    "    elif token == 'end': End()\n",
    "        \n",
    "    else:\n",
    "        if (switch == 'static'):\n",
    "            mustsearch = False\n",
    "        s = lookup(str(token))\n",
    "        print(\"s = \" + s)\n",
    "        if(s[0] == '{'):\n",
    "            processLine(s[1:-1])\n",
    "        else:\n",
    "            opstack.append(s)"
   ]
  },
  {
   "cell_type": "code",
   "execution_count": 114,
   "metadata": {
    "collapsed": false
   },
   "outputs": [
    {
     "name": "stdout",
     "output_type": "stream",
     "text": [
      "/x 4 def\n",
      "def\n",
      "/g { x stack } def\n",
      "def\n",
      "/f { /x 7 def g } def\n",
      "def\n",
      "f\n",
      "f\n",
      "s = f\n",
      "======STACK======\n",
      "f\n",
      "f\n",
      "f\n",
      "f\n",
      "======DICT======\n",
      "---- {}\n"
     ]
    }
   ],
   "source": [
    "#****************Entry point ***********************#\n",
    "global switch\n",
    "global mustsearch\n",
    "global ind\n",
    "\n",
    "ind = 0\n",
    "\n",
    "switch = 'static' # change to 'dynamic' for old mode (just need to make it not 'static')\n",
    "\n",
    "\n",
    "PostScript = ['/x 4 def', '/g { x stack } def', '/f { /x 7 def g } def', 'f'] # maybe this works?\n",
    "\n",
    "\n",
    "PS = [PostScript]\n",
    "\n",
    "for x in PostScript:\n",
    "    print(x)\n",
    "    processLine(x)\n",
    "    \n",
    "    \n",
    "print('======STACK======')\n",
    "for x in opstack:\n",
    "    print(x)\n",
    "print('======DICT======')\n",
    "for x in dstack:\n",
    "    print('----', x)\n",
    "    \n",
    "    \n",
    "\n"
   ]
  },
  {
   "cell_type": "markdown",
   "metadata": {},
   "source": [
    "## Test your code\n",
    "With all of that stuff defined, you will be able to test your interpreter using Python code like this:"
   ]
  },
  {
   "cell_type": "code",
   "execution_count": null,
   "metadata": {
    "collapsed": false
   },
   "outputs": [],
   "source": []
  }
 ],
 "metadata": {
  "kernelspec": {
   "display_name": "Python 3",
   "language": "python",
   "name": "python3"
  },
  "language_info": {
   "codemirror_mode": {
    "name": "ipython",
    "version": 3
   },
   "file_extension": ".py",
   "mimetype": "text/x-python",
   "name": "python",
   "nbconvert_exporter": "python",
   "pygments_lexer": "ipython3",
   "version": "3.5.1"
  }
 },
 "nbformat": 4,
 "nbformat_minor": 0
}
