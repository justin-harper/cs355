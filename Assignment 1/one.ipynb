{
 "cells": [
  {
   "cell_type": "markdown",
   "metadata": {},
   "source": [
    "Your name: Justin Harper"
   ]
  },
  {
   "cell_type": "code",
   "execution_count": 20,
   "metadata": {
    "collapsed": true
   },
   "outputs": [],
   "source": [
    "debuging = True\n",
    "def debug(s):\n",
    "    if debuging is True:\n",
    "        print(s)"
   ]
  },
  {
   "cell_type": "markdown",
   "metadata": {},
   "source": [
    "## Overview\n",
    "\n",
    "**Weight:** This assignment will count for approximately 5% of your final grade.\n",
    "\n",
    "**Due Date:** Wednesday, Jan. 27, 2016, by 11:59:59 PM.\n",
    "\n",
    "In this assignment you will explore use of some of the features of Python.\n",
    "\n",
    "## Acquiring the initial IPython notebook file\n",
    "This assignment itself is your starting ipython notebook file. Download the file by right-clicking on the downward pointing arrow icon at the top right of this page and selecting \"Save Link As\". Store the file where it is accessible to your running IPython notebook program. And then use the file list on the Dashboard, or File menu to open it. \n",
    "\n",
    "In accordance with the instructions for turning in the assignment the thing you turn in is to be named `one.ipynb`. Use \"Make a copy...\" on the File menu to make a copy of this file and then \"Rename...\" on the File menu to make its name be `one` (the `.ipynb` suffix will be added automatically).   \n",
    "\n",
    "## Turning in your assignment\n",
    "\n",
    "**Note the following directions carefully.** Points will be deducted for incorrectly named files and functions. All the problem solutions should be placed in a single file named `one.ipynb`. When you are done and certain that everything is working correctly, turn in your file by uploading on the [course turn-in](http://www.eecs.wsu.edu/~hauser/cs355/turnin.html) page. I repeat, the file that you upload must be named `one.ipynb`. Be sure to include your name in the first cell of the file. You may turn in your assignment as many times as you like. Only the last one submitted will be graded.\n",
    "\n",
    "Implement your code for Python 3.\n",
    "\n",
    "The work you turn in is to be **your own personal work.** You may **not** copy another student's code or work together on writing code. You may not copy code from the web, or anything else that lets you avoid solving the problems for yourself.\n",
    "\n",
    "## Grading\n",
    "\n",
    "The assignment will be marked for good programming style (appropriate algorithms, good indentation and appropriate comments -- refer to the [Python style guide](http://www.python.org/peps/pep-0008.html) -- as well as thoroughness of testing and clean and correct execution. The points below add up to 90%. The remaining 10% of the credit will be for the thoroughness of your testing. We will discuss in class what I'm expecting.\n",
    "\n",
    "* Good python style favors `for` loops rather than `while` loops (when possible) for reasons discussed in class.\n",
    "* Also, code to do the same thing (or something easily parameterizable) at different points in a program should not be duplicated but extracted into a callable function.\n",
    "* Turning in \"final\" code that produces debugging output is bad form, and points will be deducted. Here's a trick. Near the top of your program write a debug function that can be turned on and off by changing a single variable.\n",
    "\n",
    "```\n",
    "    debugging = True\n",
    "    def debug(*s): if debugging: print(*s)\n",
    "```\n",
    "\n",
    "Where you want to produce debugging output use `debug(\"This is my debugging output\")` instead of `print`. (How it works: Using `*` in front of the **parameter** of a function means that a variable number of **arguments** can be passed to that parameter when the function is called. Then using `*s` as `print`'s argument passes along those arguments to `print` which itself takes a variable number of arguments.) "
   ]
  },
  {
   "cell_type": "markdown",
   "metadata": {},
   "source": [
    "## Warmup -- makettable() and trans() -- 30%\n",
    "The text of a message can be hidden by applying a translation function to each character.\n",
    "\n",
    "Define a function `makettable(s1,s2)` that returns a dictionary such that each character in `s1` is mapped to the character at the corresponding position in `s2`. You may assume that the characters in `s1` are unique and that the two strings are the same length. (When I say \"you may assume X\" it means that your code does not have to check whether X holds or not). So for example, `makettable('abcdefg', 'gfedcba')` returns `{'a': 'g', 'c': 'e', 'b': 'f', 'e': 'c', 'd': 'd', 'g': 'a', 'f': 'b'}` Important note: throughout the class, when I say a function returns a value, I do not mean that it prints the value. Please pay attention to the difference.\n",
    "\n",
    "Now, define a function `trans(ttable, s)`. `trans` translates its string argument, `s`, according to its translation table argument, `ttable`. Argument `ttable` is, of course, a dictionary returned by the `makettable` function, and the result of `trans` is obtained by replacing each character, `c`, of `s` by `ttable[c]`, if `c` is amongst the keys of the `ttable`. If however `c` is not in `ttable.keys()` then it is unchanged in the output. This is all harder to describe than to do! To easily look up `k` in dictionary, `D`, specifying that the same character is to be used if it is not present as a key in the dictionary you can use\n",
    "```\n",
    "translation = D.get(k,k)  # use help({}.get) to see more about get\n",
    "```\n",
    "**The above trick with `get` to get a default value when a key is not present in a dictionary is important to learn and use when appropriate. Points will be taken off for not using it when appropriate!**"
   ]
  },
  {
   "cell_type": "code",
   "execution_count": 21,
   "metadata": {
    "collapsed": false
   },
   "outputs": [],
   "source": [
    "def makettable(s1,s2):\n",
    "    # write your code here\n",
    "    d - dict()\n",
    "    for i1, i2 in zip(s1, s2):\n",
    "        d[i1] = i2\n",
    "    \n",
    "    return d"
   ]
  },
  {
   "cell_type": "code",
   "execution_count": 22,
   "metadata": {
    "collapsed": true
   },
   "outputs": [],
   "source": [
    "def trans(ttable, s):\n",
    "    string = \"\"\n",
    "    for x in s:\n",
    "        q = ttable.get(x, x)\n",
    "        string += q\n",
    "\n",
    "    return string"
   ]
  },
  {
   "cell_type": "markdown",
   "metadata": {},
   "source": [
    "Define a function `testtrans()` that minimally does the following (more testing code would be good.):"
   ]
  },
  {
   "cell_type": "code",
   "execution_count": 23,
   "metadata": {
    "collapsed": false,
    "scrolled": true
   },
   "outputs": [
    {
     "ename": "NameError",
     "evalue": "name 'd' is not defined",
     "output_type": "error",
     "traceback": [
      "\u001b[1;31m---------------------------------------------------------------------------\u001b[0m",
      "\u001b[1;31mNameError\u001b[0m                                 Traceback (most recent call last)",
      "\u001b[1;32m<ipython-input-23-030fa787427f>\u001b[0m in \u001b[0;36m<module>\u001b[1;34m()\u001b[0m\n\u001b[0;32m     11\u001b[0m     \u001b[1;32mif\u001b[0m \u001b[0mtrans\u001b[0m\u001b[1;33m(\u001b[0m\u001b[0mmakettable\u001b[0m\u001b[1;33m(\u001b[0m\u001b[1;34m''\u001b[0m\u001b[1;33m,\u001b[0m\u001b[1;34m''\u001b[0m\u001b[1;33m)\u001b[0m\u001b[1;33m,\u001b[0m \u001b[1;34m\"abc\"\u001b[0m\u001b[1;33m)\u001b[0m \u001b[1;33m!=\u001b[0m \u001b[1;34m'abc'\u001b[0m\u001b[1;33m:\u001b[0m \u001b[1;32mreturn\u001b[0m \u001b[1;32mFalse\u001b[0m\u001b[1;33m\u001b[0m\u001b[0m\n\u001b[0;32m     12\u001b[0m     \u001b[1;32mreturn\u001b[0m \u001b[1;32mTrue\u001b[0m\u001b[1;33m\u001b[0m\u001b[0m\n\u001b[1;32m---> 13\u001b[1;33m \u001b[0mtesttrans\u001b[0m\u001b[1;33m(\u001b[0m\u001b[1;33m)\u001b[0m\u001b[1;33m\u001b[0m\u001b[0m\n\u001b[0m",
      "\u001b[1;32m<ipython-input-23-030fa787427f>\u001b[0m in \u001b[0;36mtesttrans\u001b[1;34m()\u001b[0m\n\u001b[0;32m      2\u001b[0m \u001b[1;31m# return True if successful, False if any test fails\u001b[0m\u001b[1;33m\u001b[0m\u001b[1;33m\u001b[0m\u001b[0m\n\u001b[0;32m      3\u001b[0m \u001b[1;32mdef\u001b[0m \u001b[0mtesttrans\u001b[0m\u001b[1;33m(\u001b[0m\u001b[1;33m)\u001b[0m\u001b[1;33m:\u001b[0m\u001b[1;33m\u001b[0m\u001b[0m\n\u001b[1;32m----> 4\u001b[1;33m     \u001b[0mttable\u001b[0m \u001b[1;33m=\u001b[0m \u001b[0mmakettable\u001b[0m\u001b[1;33m(\u001b[0m\u001b[1;34m'abc'\u001b[0m\u001b[1;33m,\u001b[0m \u001b[1;34m'xyz'\u001b[0m\u001b[1;33m)\u001b[0m\u001b[1;33m\u001b[0m\u001b[0m\n\u001b[0m\u001b[0;32m      5\u001b[0m     \u001b[0mrevttable\u001b[0m \u001b[1;33m=\u001b[0m \u001b[0mmakettable\u001b[0m\u001b[1;33m(\u001b[0m\u001b[1;34m'xyz'\u001b[0m\u001b[1;33m,\u001b[0m \u001b[1;34m'abc'\u001b[0m\u001b[1;33m)\u001b[0m\u001b[1;33m\u001b[0m\u001b[0m\n\u001b[0;32m      6\u001b[0m     \u001b[0mtests\u001b[0m \u001b[1;33m=\u001b[0m \u001b[1;34m\"Now I know my abc's\"\u001b[0m\u001b[1;33m\u001b[0m\u001b[0m\n",
      "\u001b[1;32m<ipython-input-21-db7137148e18>\u001b[0m in \u001b[0;36mmakettable\u001b[1;34m(s1, s2)\u001b[0m\n\u001b[0;32m      1\u001b[0m \u001b[1;32mdef\u001b[0m \u001b[0mmakettable\u001b[0m\u001b[1;33m(\u001b[0m\u001b[0ms1\u001b[0m\u001b[1;33m,\u001b[0m\u001b[0ms2\u001b[0m\u001b[1;33m)\u001b[0m\u001b[1;33m:\u001b[0m\u001b[1;33m\u001b[0m\u001b[0m\n\u001b[0;32m      2\u001b[0m     \u001b[1;31m# write your code here\u001b[0m\u001b[1;33m\u001b[0m\u001b[1;33m\u001b[0m\u001b[0m\n\u001b[1;32m----> 3\u001b[1;33m     \u001b[0md\u001b[0m \u001b[1;33m-\u001b[0m \u001b[0mdict\u001b[0m\u001b[1;33m(\u001b[0m\u001b[1;33m)\u001b[0m\u001b[1;33m\u001b[0m\u001b[0m\n\u001b[0m\u001b[0;32m      4\u001b[0m     \u001b[1;32mfor\u001b[0m \u001b[0mi1\u001b[0m\u001b[1;33m,\u001b[0m \u001b[0mi2\u001b[0m \u001b[1;32min\u001b[0m \u001b[0mzip\u001b[0m\u001b[1;33m(\u001b[0m\u001b[0ms1\u001b[0m\u001b[1;33m,\u001b[0m \u001b[0ms2\u001b[0m\u001b[1;33m)\u001b[0m\u001b[1;33m:\u001b[0m\u001b[1;33m\u001b[0m\u001b[0m\n\u001b[0;32m      5\u001b[0m         \u001b[0md\u001b[0m\u001b[1;33m[\u001b[0m\u001b[0mi1\u001b[0m\u001b[1;33m]\u001b[0m \u001b[1;33m=\u001b[0m \u001b[0mi2\u001b[0m\u001b[1;33m\u001b[0m\u001b[0m\n",
      "\u001b[1;31mNameError\u001b[0m: name 'd' is not defined"
     ]
    }
   ],
   "source": [
    "# function to test translation code\n",
    "# return True if successful, False if any test fails\n",
    "def testtrans():\n",
    "    ttable = makettable('abc', 'xyz')\n",
    "    revttable = makettable('xyz', 'abc')\n",
    "    tests = \"Now I know my abc's\"\n",
    "    answer = \"Now I know my xyz's\"\n",
    "    if trans(ttable, tests) != answer: return False\n",
    "    if trans(revttable, trans(ttable, tests)) != \"Now I know mb abc's\": return False\n",
    "    if trans(ttable,'') != '': return False\n",
    "    if trans(makettable('',''), \"abc\") != 'abc': return False\n",
    "    return True\n",
    "testtrans()"
   ]
  },
  {
   "cell_type": "markdown",
   "metadata": {},
   "source": [
    "## Coment: one typo, d = dict()"
   ]
  },
  {
   "cell_type": "markdown",
   "metadata": {
    "collapsed": true
   },
   "source": [
    "## histo -- 30%\n",
    "\n",
    "Define a function, `histo(s)` computing the histogram of a given string. (Look up *histogram* in the dictionary if you don't know what it means.) The histogram returned by the function is a list of characters in the input string `s` each paired with its frequency. Characters must appear in the list ordered from **most frequent to least frequent**. Characters with the same frequency must appear in **increasing alphabetical order.** For example, `histo('implemented')` is `[('e', 3), ('m', 2), ('d', 1), ('i', 1), ('l', 1), ('n', 1), ('p', 1), ('t', 1)]`.  To implement the sorting you **must** use the python built-in function `sorted`. Do **not** write your own sorting code. (Hint: help(sorted) and the Python documentation are your friends.)\n",
    "\n",
    "Define a function `testhisto()` that tests your `histo` function, returning `True` if the code passes your tests, and `False` if the tests fail. Hint: By now you should be familiar with using dictionaries and should be able to write a function that builds the histogram in a single pass over the input string. "
   ]
  },
  {
   "cell_type": "code",
   "execution_count": 11,
   "metadata": {
    "collapsed": false
   },
   "outputs": [],
   "source": [
    "def histo(string):\n",
    "    d = {}\n",
    "    for letter in string:\n",
    "        if letter not in d.keys():\n",
    "            d[letter] = 0\n",
    "        d[letter] +=1\n",
    "\n",
    "    debug(d)\n",
    "    sortedhisto = sorted(d.items(), key=lambda kv: (-kv[1], kv[0]), reverse = False)\n",
    "\n",
    "    return sortedhisto    "
   ]
  },
  {
   "cell_type": "code",
   "execution_count": 17,
   "metadata": {
    "collapsed": false
   },
   "outputs": [
    {
     "name": "stdout",
     "output_type": "stream",
     "text": [
      "{'d': 1, 'e': 1, 'a': 1, 'f': 1, 'g': 1, 'b': 1, 'c': 1}\n",
      "[('a', 1), ('b', 1), ('c', 1), ('d', 1), ('e', 1), ('f', 1), ('g', 1)]\n",
      "{'d': 2, 'e': 2, 'a': 2, 'f': 2, 'g': 2, 'b': 2, 'c': 2}\n",
      "[('a', 2), ('b', 2), ('c', 2), ('d', 2), ('e', 2), ('f', 2), ('g', 2)]\n",
      "{'g': 2, 'x': 1, 'b': 1, 'a': 2, 'f': 1}\n",
      "[('a', 2), ('g', 2), ('b', 1), ('f', 1), ('x', 1)]\n",
      "{'B': 1, 'H': 1, 'p': 3, 'i': 25, 'g': 5, 'T': 1, 'o': 16, 'd': 7, '(': 1, 'u': 13, ' ': 52, 'c': 5, 'h': 12, 'D': 1, 'a': 16, 't': 30, 'w': 3, ')': 1, 'l': 8, 'b': 4, ':': 1, ',': 2, 's': 23, 'F': 1, '.': 2, 'r': 11, 'm': 2, 'e': 22, 'y': 4, 'f': 8, 'v': 1, 'n': 19}\n",
      "[(' ', 52), ('t', 30), ('i', 25), ('s', 23), ('e', 22), ('n', 19), ('a', 16), ('o', 16), ('u', 13), ('h', 12), ('r', 11), ('f', 8), ('l', 8), ('d', 7), ('c', 5), ('g', 5), ('b', 4), ('y', 4), ('p', 3), ('w', 3), (',', 2), ('.', 2), ('m', 2), ('(', 1), (')', 1), (':', 1), ('B', 1), ('D', 1), ('F', 1), ('H', 1), ('T', 1), ('v', 1)]\n"
     ]
    }
   ],
   "source": [
    "def testhisto():\n",
    "    s1 = \"abcdefg\"\n",
    "    s2 = \"aabbccddeeffgg\"\n",
    "    s3 = \"ggfxaba\"\n",
    "    s4 = \"Define a function testhisto() that tests your histo function, returning True if the code passes your tests, and False if the tests fail. Hint: By now you should be familiar with using dictionaries and should be able to write a function that builds the histogram in a single pass over the input string.\"\n",
    "\n",
    "    debug(histo(s1))\n",
    "    debug(histo(s2))\n",
    "    debug(histo(s3))\n",
    "    debug(histo(s4))\n",
    "    \n",
    "testhisto()\n"
   ]
  },
  {
   "cell_type": "markdown",
   "metadata": {},
   "source": [
    "## Comment: tests should return true/false based on the comparison of answer and the results. "
   ]
  },
  {
   "cell_type": "markdown",
   "metadata": {},
   "source": [
    "## digraphs() -- 30%\n",
    "A *digraph* is a pair of characters that occur adjacent to one another in a text. By convention we write each digraph between a pair of '/' characters to make it easier to see where the blanks are. For example the digraphs at the beginning of the first sentence of this section are /A /, / d/, /di/, /ig/, etc. Digraph frequency counts are helpful in cryptological analysis of some ciphers.\n",
    "\n",
    "Define a `digraphs(s)` function that returns a list containing the number of times each digraph occurs in string `s`. Digraphs must be listed in order from *least* to *most* frequent (not the same as the previous problem). If there are ties, put the ties in increasing *lexicographic* order. Again, use the built-in function `sorted` and do not write your own sorting code. Digraphs that do not occur in the input (0 occurrences) should not be listed in the output.\n",
    "\n",
    "Here is what the function might return on some hypothetical sample input:\n",
    "```\n",
    "[('/ d/', 30), ('/. /', 31), ('/r /', 32), ('/an/', 33), ('/ i/', 34), ('/or/', 36), \n",
    " ('/t /', 36), ('/ o/', 37), ('/d /', 38), ('/n /', 40), ('/he/', 41), ('/to/', 42), \n",
    " ('/de/', 44), ('/re/', 44), ('/s /', 44), ('/co/', 47), ('/ </', 48), ('/th/', 52), \n",
    " ('/in/', 53), ('/ a/', 56), ('/ t/', 66), ('/e /', 83)]\n",
    "```\n",
    "\n",
    "Define a test function, testdigraphs() to test your digraphs code using the same conventions as in the previous problems.\n"
   ]
  },
  {
   "cell_type": "code",
   "execution_count": 18,
   "metadata": {
    "collapsed": true
   },
   "outputs": [],
   "source": [
    "def digraphs(s):\n",
    "    dig = {}\n",
    "    for x in range(len(s) -1):\n",
    "        currentdig = '/%s%s/' % (s[x], s[x+1])        \n",
    "        if currentdig not in dig.keys():\n",
    "            dig[currentdig] = 0\n",
    "        dig[currentdig] += 1\n",
    "\n",
    "    sortedDig = sorted(dig.items(), key=lambda kv: (kv[1], kv[0]))\n",
    "    return sortedDig"
   ]
  },
  {
   "cell_type": "code",
   "execution_count": 19,
   "metadata": {
    "collapsed": false
   },
   "outputs": [
    {
     "name": "stdout",
     "output_type": "stream",
     "text": [
      "[('/ c/', 1), ('/ d/', 1), ('/ p/', 1), ('/A /', 1), ('/ad/', 1), ('/ai/', 1), ('/an/', 1), ('/ap/', 1), ('/ar/', 1), ('/at/', 1), ('/cc/', 1), ('/ce/', 1), ('/ch/', 1), ('/ct/', 1), ('/cu/', 1), ('/di/', 1), ('/dj/', 1), ('/e /', 1), ('/en/', 1), ('/ex/', 1), ('/f /', 1), ('/gr/', 1), ('/h /', 1), ('/he/', 1), ('/ig/', 1), ('/in/', 1), ('/ir/', 1), ('/is/', 1), ('/ja/', 1), ('/n /', 1), ('/ne/', 1), ('/no/', 1), ('/nt/', 1), ('/o /', 1), ('/oc/', 1), ('/of/', 1), ('/on/', 1), ('/ot/', 1), ('/pa/', 1), ('/ph/', 1), ('/rs/', 1), ('/to/', 1), ('/ur/', 1), ('/xt/', 1), ('/ i/', 2), ('/a /', 2), ('/ac/', 2), ('/er/', 2), ('/ha/', 2), ('/ra/', 2), ('/s /', 2), ('/t /', 2), ('/te/', 2), ('/th/', 2), ('/ o/', 3), ('/ t/', 3), ('/r /', 3), ('/ a/', 4)]\n"
     ]
    }
   ],
   "source": [
    "def testdigraphs():\n",
    "    debug(digraphs(\"A digraph is a pair of characters that occur adjacent to one another in a text\"))\n",
    "    \n",
    "testdigraphs()"
   ]
  },
  {
   "cell_type": "markdown",
   "metadata": {},
   "source": [
    "## Split, Join and Slices\n",
    "Suppose you have a list of words [\"A\", \"smoky\", \"day\", \"on\", \"the\", \"Palouse\"]. The `join` method on strings concatenates the strings in a list, putting a copy of the string whose `join` method is used in between each of them. For example:"
   ]
  },
  {
   "cell_type": "code",
   "execution_count": 16,
   "metadata": {
    "collapsed": false
   },
   "outputs": [
    {
     "data": {
      "text/plain": [
       "'A smoky day on the Palouse.'"
      ]
     },
     "execution_count": 16,
     "metadata": {},
     "output_type": "execute_result"
    }
   ],
   "source": [
    "uglyDayList = [\"A\", \"smoky\", \"day\", \"on\", \"the\", \"Palouse\"]\n",
    "uglyDaySentence = ' '.join(uglyDayList) + '.'\n",
    "uglyDaySentence"
   ]
  },
  {
   "cell_type": "markdown",
   "metadata": {},
   "source": [
    "Similarly, the `split` method on strings chops them up into a list, using a specified separator, which defaults to whitespace."
   ]
  },
  {
   "cell_type": "code",
   "execution_count": 17,
   "metadata": {
    "collapsed": false
   },
   "outputs": [
    {
     "data": {
      "text/plain": [
       "['A', 'smoky', 'day', 'on', 'the', 'Palouse.']"
      ]
     },
     "execution_count": 17,
     "metadata": {},
     "output_type": "execute_result"
    }
   ],
   "source": [
    "uglyDaySentence.split()"
   ]
  },
  {
   "cell_type": "markdown",
   "metadata": {},
   "source": [
    "Finally, slices are a handy way to get rid of unwanted things, like the last letter of a sentence, the trailing newline character of a line read from a file, etc."
   ]
  },
  {
   "cell_type": "code",
   "execution_count": 18,
   "metadata": {
    "collapsed": false
   },
   "outputs": [
    {
     "data": {
      "text/plain": [
       "'A smoky day on the Palouse'"
      ]
     },
     "execution_count": 18,
     "metadata": {},
     "output_type": "execute_result"
    }
   ],
   "source": [
    "uglyDaySentence[:-1]"
   ]
  },
  {
   "cell_type": "markdown",
   "metadata": {},
   "source": [
    "## Cryptogram -- 5% extra credit\n",
    "Use your `trans`, `histo`, and `digraph` functions in successive cells of this notebook to try to figure out the following cryptogram. To make the functions available in the interactive session\n",
    "\n",
    "If you haven't solved one of these before you may want to look on the web for hints on the relative frequencies of letters and digraphs in the English language. You can use your functions to try out different possibilities and get clues about the translation being used. (Digits and punctuation are not changed in this cryptogram.)\n",
    "```\n",
    "ZYXWV UVWTYX (SYZRWQZRS PXYOX NS WTR UVWTYXS)[2][3] ORMR N LMQWQST\n",
    "SKMMRNJ IYZRHV GMYKU OTY IMRNWRH WTR SPRWIT IYZRHV STYO ZYXWV UVWTYX'S\n",
    "FJVQXG IQMIKS, WTNW FQMSW NQMRH YX WTR LLI YX YIWYLRM 5,\n",
    "1969. FYMWV-FQER RUQSYHRS ORMR ZNHR YERM FYKM SRMQRS. WTR UVWTYX\n",
    "UTRXYZRXYX HRERJYURH FMYZ WTR WRJREQSQYX SRMQRS QXWY SYZRWTQXG JNMGRM\n",
    "QX SIYUR NXH QZUNIW, SUNOXQXG WYKMQXG SWNGR STYOS, FQJZS, XKZRMYKS\n",
    "NJLKZS, SRERMNJ LYYPS, NXH N SWNGR ZKSQINJ. WTR GMYKU'S QXFJKRXIR YX\n",
    "IYZRHV TNS LRRX IYZUNMRH WY WTR LRNWJRS' QXFJKRXIR YX ZKSQI.\n",
    "\n",
    "LMYNHINSW LV WTR LLI LRWORRX 1969 NXH 1974, FJVQXG IQMIKS ONS\n",
    "IYXIRQERH, OMQWWRX, NXH URMFYMZRH LV QWS ZRZLRMS GMNTNZ ITNUZNX, DYTX\n",
    "IJRRSR, WRMMV GQJJQNZ, RMQI QHJR, WRMMV DYXRS, NXH ZQITNRJ\n",
    "UNJQX. JYYSRJV SWMKIWKMRH NS N SPRWIT STYO, LKW OQWT NX QXXYENWQER\n",
    "SWMRNZ-YF-IYXSIQYKSXRSS NUUMYNIT (NQHRH LV GQJJQNZ'S NXQZNWQYX), QW\n",
    "UKSTRH WTR LYKXHNMQRS YF OTNW ONS NIIRUWNLJR QX SWVJR NXH IYXWRXW. N\n",
    "SRJF-IYXWNQXRH IYZRHV WRNZ MRSUYXSQLJR FYM LYWT OMQWQXG NXH URMFYMZQXG\n",
    "WTRQM OYMP, WTR UVWTYXS TNH IMRNWQER IYXWMYJ OTQIT NJJYORH WTRZ WY\n",
    "RCURMQZRXW OQWT FYMZ NXH IYXWRXW, HQSINMHQXG MKJRS YF WRJREQSQYX\n",
    "IYZRHV. WTRQM QXFJKRXIR YX LMQWQST IYZRHV TNS LRRX NUUNMRXW FYM VRNMS,\n",
    "OTQJR QX XYMWT NZRMQIN, QW TNS IYJYKMRH WTR OYMP YF IKJW URMFYMZRMS\n",
    "FMYZ WTR RNMJV RHQWQYXS YF SNWKMHNV XQGTW JQER WTMYKGT WY ZYMR MRIRXW\n",
    "NLSKMHQSW WMRXHS QX WRJREQSQYX IYZRHV. \"UVWTYXRSBKR\" TNS RXWRMRH WTR\n",
    "RXGJQST JRCQIYX NS N MRSKJW.\n",
    "\n",
    "QX N 2005 KP UYJJ WY FQXH \"WTR IYZRHQNX'S IYZRHQNX\", WTMRR YF WTR SQC\n",
    "UVWTYXS ZRZLRMS ORMR EYWRH LV FRJJYO IYZRHQNXS NXH IYZRHV QXSQHRMS WY\n",
    "LR NZYXG WTR WYU 50 GMRNWRSW IYZRHQNXS RERM: IJRRSR NW XY. 2, QHJR NW\n",
    "XY. 21, NXH UNJQX NW XY. 30.\n",
    "\n",
    "FMYZ OQPQURHQN: RX.OQPQURHQN.YMG/OQPQ/ZYXWV_UVWTYX\n",
    "```\n",
    "Hint: use your `makettable` function to gradually build better and better translations between the uppercase cryptogram characters to lowercase plaintext characters to make it visually apparent which characters have been translated. Note that numbers and punctuation in the cryptogram will appear unchanged in the answer.\n",
    "\n",
    "I want to see at least several steps along the way to the solution appearing in multiple cells below. Explain your thinking about the steps and what happened in intermediate steps in additional markdown cells.\n",
    "\n",
    "\n"
   ]
  },
  {
   "cell_type": "markdown",
   "metadata": {},
   "source": [
    "There will be multiple invervening cells. This should be the last cell of your notebook, in which you can display the answer to the cryptogram.\n",
    "\n",
    "**Write your answer below this line** "
   ]
  },
  {
   "cell_type": "markdown",
   "metadata": {},
   "source": [
    "## Excellent!\n",
    "## Final Score: 100\n",
    "- Correct algorithms\n",
    "- Elegant programming style\n",
    "- Good testcases\n"
   ]
  },
  {
   "cell_type": "markdown",
   "metadata": {},
   "source": [
    "## See comments above\n"
   ]
  },
  {
   "cell_type": "code",
   "execution_count": null,
   "metadata": {
    "collapsed": true
   },
   "outputs": [],
   "source": []
  }
 ],
 "metadata": {
  "kernelspec": {
   "display_name": "Python 3",
   "language": "python",
   "name": "python3"
  },
  "language_info": {
   "codemirror_mode": {
    "name": "ipython",
    "version": 3
   },
   "file_extension": ".py",
   "mimetype": "text/x-python",
   "name": "python",
   "nbconvert_exporter": "python",
   "pygments_lexer": "ipython3",
   "version": "3.5.1"
  }
 },
 "nbformat": 4,
 "nbformat_minor": 0
}
