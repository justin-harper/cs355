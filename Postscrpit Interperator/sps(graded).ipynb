{
 "cells": [
  {
   "cell_type": "code",
   "execution_count": 1,
   "metadata": {
    "collapsed": true
   },
   "outputs": [],
   "source": [
    "# Justin Harper\n",
    "# WSU ID: 10696738"
   ]
  },
  {
   "cell_type": "markdown",
   "metadata": {},
   "source": [
    "## Programming Assignment 2 - Part 1\n",
    "### Cpts 355 - Spring 2016\n",
    "### An Interpreter for a Postscript-like Language"
   ]
  },
  {
   "cell_type": "markdown",
   "metadata": {},
   "source": [
    "### Assigned Feb. 3, 2016"
   ]
  },
  {
   "cell_type": "markdown",
   "metadata": {},
   "source": [
    "### Due Friday, Feb. 12, 2016\n",
    "Develop your code in a file named `sps.ipynb`, starting from this notebook file. When you are finished, upload `sps.ipynb` on the course Turnin Page. \n",
    "\n",
    "The entire interpreter project (Parts 1 and Part 2 together) will count for 10% of your course grade. This first part is worth 20% of that 10%: the intention is to make sure that you are on the right track and have a chance for mid-course correction before completing Part 2. However, note that the work and amount of code involved in Part 1 is a large fraction of the total project, so you need to get going on this part right away."
   ]
  },
  {
   "cell_type": "markdown",
   "metadata": {},
   "source": [
    "### This assignment is to be your own work. Refer to the course academic integrity statement in the syllabus."
   ]
  },
  {
   "cell_type": "markdown",
   "metadata": {},
   "source": [
    "## The problem\n",
    "In this assignment you will write an interpreter in Python for a small PostScript-like language, concentrating on key computational features of the abstract machine, omitting all PS features related to graphics, and using a somewhat-simplified syntax.\n",
    "\n",
    "The simplified language, SPS, has the following features of PS\n",
    "* integer constants, e.g. `123`: in python3 there is no practical limit on the size of integers\n",
    "* boolean constants, `true` and `false` (Note that the boolean constants in python are `True` and `False`)\n",
    "* name constants, e.g. `/fact`: start with a `/` and letter followed by an arbitrary sequence of letters and numbers\n",
    "* names to be looked up in the dictionary stack, e.g. `fact`: as for name constants, without the `/`\n",
    "* code constants: code between matched curly braces `{` ... `}`\n",
    "* built-in operators on numbers: `add`, `sub`, `mul`, `div`, `eq`, `lt`, `gt`\n",
    "* built-in operators on boolean values: `and`, `or`, `not`; these take boolean operands only. Anything else is an error.\n",
    "* built-in sequencing operators: `if`, `ifelse`; make sure that you understand the order of the operands on the stack. Play with ghostscript if necessary to help understand what is happening.\n",
    "* stack operators: `dup`, `exch`, `pop`\n",
    "* dictionary creation operator: `dict`; takes one operand from the operand stack, ignores it, and creates a new, empty dictionary on the operand stack\n",
    "* dictionary stack manipulation operators: `begin`, `end`. `begin` requires one dictionary operand on the operand stack; `end` has no operands.\n",
    "* name definition operator: `def`. This requires two operands, a name and a value\n",
    "* defining (using `def`) and calling functions\n",
    "* stack printing operator (prints contents of stack without changing it): `stack`\n",
    "* top-of-stack printing operator (pops the top element of the stack and prints it): `=`\n"
   ]
  },
  {
   "cell_type": "markdown",
   "metadata": {},
   "source": [
    "## Requirements for Part 1 (Due Feb. 12)\n",
    "In Part 1 you will build some essential pieces of the interpreter but not yet the full interpreter. The pieces you build will be driven by Python test code rather than actual Postscript programs. The pieces you are going to build first are:\n",
    "* The operand stack\n",
    "* The dictionary stack\n",
    "* The operators that don't involve code arrays: all of the operators except `if`, `ifelse`.\n",
    "In Part 2 we will add the implementations for `if`, `ifelse`, calling functions, as well as interpreting input strings in the Postscript language.\n",
    "* Looking up names"
   ]
  },
  {
   "cell_type": "markdown",
   "metadata": {},
   "source": [
    "### The operand stack\n",
    "The operand stack should be implemented as a Python list. The list will contain **Python** integers, booleans, and strings, and later in Part 2 code arrays. Python integers and booleans on the stack represent Postscript integers and booleans. Python strings on the stack represent names of Postscript variables (see the handling of names and the `def` operator below.\n",
    "\n",
    "When using a list as a stack one of the decisions you have to make is where the *hot* end of the stack is located. (The *hot* end is where pushing and popping happens). Will the hot end be at position `0`, the head of the list, or at position `-1`, the end of the list? It's your choice."
   ]
  },
  {
   "cell_type": "markdown",
   "metadata": {},
   "source": [
    "### The dictionary stack\n",
    "The dictionary stack is also implemented as a Python list. It will contain **Python** dictionaries which will be the implementation for **Postscript** dictionaries. The dictionary stack needs to support adding and removing dictionaries at the hot end, as well as defining and looking up names. "
   ]
  },
  {
   "cell_type": "markdown",
   "metadata": {},
   "source": [
    "### Operators\n",
    "Operators will be implemented as zero-argument Python functions that manipulate the operand and dictionary stacks. For example, the `add` operator could be implemented as the Python function (with comments instead of actual implementations)\n",
    "```\n",
    "def add():\n",
    "    op1 = # pop the top value off the operand stack\n",
    "    op2 = # pop the top value off the operand stack\n",
    "    # push (op1 + op2) onto the operand stack\n",
    "```\n",
    "You may run into conflicts for some of the names of these functions . For example, the function for the `not` operator can't be named `not` because it is reserved for another use in Python. So you could do something like:\n",
    "```\n",
    "def psnot():\n",
    "    // pop the top value off the operand stack and push its negation onto the operand stack\n",
    "```    \n",
    "The `begin` and `end` operators are a little different in that they manipulate the dictionary stack in addition to or instead of the operand stack. Remember that the `dict` operator affects *only* the operand stack.\n",
    "\n",
    "The `def` operator takes two operands from the operand stack: a string (recall that strings in the operand stack represent names of postscript variables) and a value. It changes the dictionary at the hot end of the dictionary stack so that the string is mapped to the value by that dictionary. Notice that `def` does ***not*** change the number of dictionaries on the dictionary stack!\n",
    "\n",
    "### Name lookup\n",
    "\n",
    "Name lookup is implemented by a Python function:\n",
    "```\n",
    "def lookup(name):\n",
    "    # search the dictionaries on the dictionary stack starting at the hot end to find one that contains name\n",
    "    # return the value associated with name\n",
    "```\n",
    "Note that name lookup is ***not*** a Postscript operator, but it ***is*** implemented by a Python function."
   ]
  },
  {
   "cell_type": "markdown",
   "metadata": {},
   "source": [
    "## Your Code Start Here"
   ]
  },
  {
   "cell_type": "code",
   "execution_count": 2,
   "metadata": {
    "collapsed": false
   },
   "outputs": [],
   "source": [
    "# The operand stack: define the operand stack and its operations in this notebook cell\n",
    "opstack = []\n",
    "\n",
    "# now define functions to push and pop values on the opstack according to your decision about which\n",
    "# end should be the hot end. Recall that `pass` in python is a no-op: replace it with your code.\n",
    "\n",
    "def opPop(): \n",
    "    return opstack.pop()\n",
    "\n",
    "def opPush(value):\n",
    "    opstack.append(value)\n",
    "\n",
    "# Remember that there is a Postscript operator called \"pop\" so we choose different names for these functions.\n"
   ]
  },
  {
   "cell_type": "code",
   "execution_count": 3,
   "metadata": {
    "collapsed": true
   },
   "outputs": [],
   "source": [
    "# The dictionary stack: define the dictionary stack and its operations in this cell\n",
    "dstack = [{}]\n",
    "\n",
    "# now define functions to push and pop dictionaries on the dictstack, to define name, and to lookup a name\n",
    "\n",
    "def dictPop():\n",
    "    a = dstack.pop()\n",
    "    if(a == {}):\n",
    "        dictPush(a)\n",
    "        return {}\n",
    "    else:\n",
    "        return a\n",
    "    \n",
    "\n",
    "def dictPush(value):\n",
    "    dstack.append(value)\n",
    "\n",
    "def define(name, value):\n",
    "    a = opstack.pop()\n",
    "    b = opstack.pop()\n",
    "    x = dstack.pop()\n",
    "    x[b] = a\n",
    "    dstack.append(x)\n",
    "\n",
    "def lookup(name):\n",
    "    # return the value associated with name\n",
    "    # what is your design decision about what to do when there is no definition for name\n",
    "    \n",
    "    # need to determine if name is a number or a name\n",
    "    #if name.isdigit():\n",
    "    #    return name\n",
    "    \n",
    "    \n",
    "    \n",
    "    \n",
    "    if type(name) == type(1):    \n",
    "        return name\n",
    "    \n",
    "    \n",
    "    else:\n",
    "        # need to lookup the name in the dict        \n",
    "        \n",
    "        for a in dstack:\n",
    "            if(a == {}):\n",
    "                return None\n",
    "            if name in a.keys():\n",
    "                return a[name]\n",
    "            \n",
    "        # if we get here than name doesn't exist\n",
    "        return None\n",
    "                \n",
    "            \n",
    "    \n",
    "        \n",
    "    \n",
    "        "
   ]
  },
  {
   "cell_type": "markdown",
   "metadata": {},
   "source": [
    "## Comment: It should look up from the top to the bottom of dictstack.\n",
    "## -2\n"
   ]
  },
  {
   "cell_type": "code",
   "execution_count": 4,
   "metadata": {
    "collapsed": false
   },
   "outputs": [],
   "source": [
    "# Arithmetic operators: define all the arithmetic operators in this cell -- add, sub, mul, div, eq, lt, gt\n",
    "def EQ():\n",
    "    a = lookup(opstack.pop())\n",
    "    b = lookup(opstack.pop())\n",
    "    \n",
    "    if(a == b):\n",
    "        opstack.append(\"true\")\n",
    "    else:\n",
    "        opstack.append(\"false\")\n",
    "\n",
    "def Add():\n",
    "    a = lookup(opstack.pop())\n",
    "    b = lookup(opstack.pop())\n",
    "    sum = int(a) + int(b)\n",
    "    opstack.append(sum)\n",
    "    \n",
    "def Mul():\n",
    "    a = lookup(opstack.pop())\n",
    "    b = lookup(opstack.pop())\n",
    "    prod = int(a) * int(b)\n",
    "    opstack.append(prod)\n",
    "\n",
    "def Div():\n",
    "    a = lookup(opstack.pop())\n",
    "    b = lookup(opstack.pop())\n",
    "    \n",
    "    if(a == 0):\n",
    "        exit()\n",
    "    else:\n",
    "        quote = int(b) / int(a)\n",
    "        opstack.append(quote)\n",
    "    \n",
    "\n",
    "def Lt():\n",
    "    a = lookup(opstack.pop())\n",
    "    b = lookup(opstack.pop())\n",
    "    \n",
    "    if(b < a):\n",
    "        opstack.append(\"true\")\n",
    "    else:\n",
    "        opstack.append(\"false\")\n",
    "\n",
    "def Gt():\n",
    "    a = lookup(opstack.pop())\n",
    "    b = lookup(opstack.pop())\n",
    "    \n",
    "    if(b > a):\n",
    "        opstack.append(\"true\")\n",
    "    else:\n",
    "        opstack.append(\"false\")\n"
   ]
  },
  {
   "cell_type": "code",
   "execution_count": 5,
   "metadata": {
    "collapsed": true
   },
   "outputs": [],
   "source": [
    "# Boolean operators: define all the boolean operators in this cell -- and, or, not\n",
    "def And():\n",
    "    a = lookup(opstack.pop())\n",
    "    b = lookup(opstack.pop())\n",
    "    \n",
    "    if(a == 'true' and b == 'true'):\n",
    "        opstack.append('true')\n",
    "    else:\n",
    "        opstack.append('false')\n",
    "        \n",
    "def Not():\n",
    "    a = lookup(opstack.pop())\n",
    "    if(a == 'false'):\n",
    "        opstack.append('true')\n",
    "    else:\n",
    "        opstack.append('false')\n",
    "        \n",
    "def Or():\n",
    "    a = lookup(opstack.pop())\n",
    "    b = lookup(opstack.pop())\n",
    "    \n",
    "    if(a == 'true' or b == 'true'):\n",
    "        opstack.append('true')\n",
    "    else:\n",
    "        opstack.append('false')"
   ]
  },
  {
   "cell_type": "code",
   "execution_count": 6,
   "metadata": {
    "collapsed": true
   },
   "outputs": [],
   "source": [
    "# Define the stack manipulation operators in this cell: dup, exch, pop\n",
    "def Dup():\n",
    "    a = opstack.pop()\n",
    "    opstack.append(a)\n",
    "    opstack.append(a)\n",
    "    \n",
    "def Exch():\n",
    "    a = opstack.pop()\n",
    "    b = opstack.pop()\n",
    "    \n",
    "    opstack.append(a)\n",
    "    opstack.append(b)\n",
    "def Pop():\n",
    "    opstack.pop()"
   ]
  },
  {
   "cell_type": "code",
   "execution_count": 7,
   "metadata": {
    "collapsed": true
   },
   "outputs": [],
   "source": [
    "# Define the dictionary manipulation operators in this cell: dict, begin, end, def\n",
    "# name the function for the def operator psDef because def is reserved in Python\n",
    "def Dict():\n",
    "    # takes one operand from the operand stack, ignores it, and creates a new, empty dictionary on the operand stack\n",
    "    opstack.pop()\n",
    "    dstack.append({})\n",
    "    \n",
    "def Begin(d):\n",
    "    # begin pushes a dictionary on the dictionary stack\n",
    "    dstack.append(d)\n",
    "def End():\n",
    "    #  end removes a dictionary from the dictionary stack\n",
    "    dstack.pop()\n",
    "    \n",
    "def Def():\n",
    "    # def creates or modifies an entry in the top dictionary on the dictionary stack.\n",
    "    a = opstack.pop()\n",
    "    b = opstack.pop()\n",
    "    d = dstack.pop()\n",
    "    d[b] = a\n",
    "    dstack.append(d)\n",
    "    "
   ]
  },
  {
   "cell_type": "code",
   "execution_count": 8,
   "metadata": {
    "collapsed": false
   },
   "outputs": [],
   "source": [
    "# Define the printing operators in this cell: =, stack\n",
    "# Pick a good name for the code implementing =\n",
    "def PrintOP():\n",
    "    print(opstack)\n",
    "\n",
    "def PrintVal():\n",
    "    a = lookup(opstack.pop())\n",
    "    print (a)"
   ]
  },
  {
   "cell_type": "code",
   "execution_count": 9,
   "metadata": {
    "collapsed": true
   },
   "outputs": [],
   "source": [
    "# Define any other operators that I may have forgotten in this cell"
   ]
  },
  {
   "cell_type": "markdown",
   "metadata": {},
   "source": [
    "## Test your code\n",
    "With all of that stuff defined, you will be able to test your interpreter using Python code like this:"
   ]
  },
  {
   "cell_type": "code",
   "execution_count": 10,
   "metadata": {
    "collapsed": false
   },
   "outputs": [],
   "source": [
    "def testAdd():\n",
    "    opPush(1)\n",
    "    opPush(2)\n",
    "    Add()\n",
    "    if opPop() != 3: return False   \n",
    "    return True\n",
    "\n",
    "def testLookup():\n",
    "    opPush(\"n1\")\n",
    "    opPush(3)\n",
    "    Def()\n",
    "    if lookup(\"n1\") != 3: return False\n",
    "    return True\n",
    "\n",
    "\n",
    "# go on writing test code for ALL of your code here; think about edge cases, and \n",
    "# other points where you are likely to make a mistake.\n",
    "\n",
    "# now an easy way to run all the test cases and make sure that they all return true\n",
    "# is\n",
    "\n",
    "testCases = [testAdd, testLookup] # add the names of your test functions to this list\n",
    "def testAll1():\n",
    "    for test in testCases:\n",
    "        if not test(): return False\n",
    "    return True\n",
    "\n",
    "# but wouldn't it be nice to run all the tests, instead of stopping on the first failure,\n",
    "# and see which ones failed\n",
    "# How about something like:\n",
    "\n",
    "testCases = [('add', testAdd), ('lookup', testLookup)] # add you test functions to this list along with suitable names\n",
    "def testAll2():\n",
    "    failedTests = [testName for (testName, testProc) in testCases if not testProc()]\n",
    "    if failedTests:\n",
    "        return ('Some tests failed', failedTests)\n",
    "    else: return ('All tests OK')\n",
    "    \n"
   ]
  },
  {
   "cell_type": "code",
   "execution_count": 11,
   "metadata": {
    "collapsed": false
   },
   "outputs": [
    {
     "data": {
      "text/plain": [
       "'All tests OK'"
      ]
     },
     "execution_count": 11,
     "metadata": {},
     "output_type": "execute_result"
    }
   ],
   "source": [
    "testAll2()"
   ]
  },
  {
   "cell_type": "markdown",
   "metadata": {
    "collapsed": true
   },
   "source": [
    "## Comment:\n",
    "## Excellent Overall!\n",
    "## Final Score = 98\n"
   ]
  },
  {
   "cell_type": "code",
   "execution_count": null,
   "metadata": {
    "collapsed": true
   },
   "outputs": [],
   "source": []
  }
 ],
 "metadata": {
  "kernelspec": {
   "display_name": "Python 3",
   "language": "python",
   "name": "python3"
  },
  "language_info": {
   "codemirror_mode": {
    "name": "ipython",
    "version": 3
   },
   "file_extension": ".py",
   "mimetype": "text/x-python",
   "name": "python",
   "nbconvert_exporter": "python",
   "pygments_lexer": "ipython3",
   "version": "3.5.1"
  }
 },
 "nbformat": 4,
 "nbformat_minor": 0
}
