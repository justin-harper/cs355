{
 "cells": [
  {
   "cell_type": "code",
   "execution_count": 19,
   "metadata": {
    "collapsed": true
   },
   "outputs": [],
   "source": [
    "# Beau Schwieso\n",
    "# I decided not to implement the interpreter function like suggested. \n"
   ]
  },
  {
   "cell_type": "markdown",
   "metadata": {},
   "source": [
    "## Programming Assignment 2 - Part 1 and 2 \n",
    "### Cpts 355 - Spring 2016\n",
    "### An Interpreter for a Postscript-like Language"
   ]
  },
  {
   "cell_type": "markdown",
   "metadata": {},
   "source": [
    "### Assigned Feb. 3, 2016"
   ]
  },
  {
   "cell_type": "markdown",
   "metadata": {},
   "source": [
    "### Due Friday, Feb. 12, 2016\n",
    "Develop your code in a file named `sps.ipynb`, starting from this notebook file. When you are finished, upload `sps.ipynb` on the course Turnin Page. \n",
    "\n",
    "The entire interpreter project (Parts 1 and Part 2 together) will count for 10% of your course grade. This first part is worth 20% of that 10%: the intention is to make sure that you are on the right track and have a chance for mid-course correction before completing Part 2. However, note that the work and amount of code involved in Part 1 is a large fraction of the total project, so you need to get going on this part right away."
   ]
  },
  {
   "cell_type": "markdown",
   "metadata": {},
   "source": [
    "### This assignment is to be your own work. Refer to the course academic integrity statement in the syllabus."
   ]
  },
  {
   "cell_type": "markdown",
   "metadata": {},
   "source": [
    "## The problem\n",
    "In this assignment you will write an interpreter in Python for a small PostScript-like language, concentrating on key computational features of the abstract machine, omitting all PS features related to graphics, and using a somewhat-simplified syntax.\n",
    "\n",
    "The simplified language, SPS, has the following features of PS\n",
    "* integer constants, e.g. `123`: in python3 there is no practical limit on the size of integers\n",
    "* boolean constants, `true` and `false` (Note that the boolean constants in python are `True` and `False`)\n",
    "* name constants, e.g. `/fact`: start with a `/` and letter followed by an arbitrary sequence of letters and numbers\n",
    "* names to be looked up in the dictionary stack, e.g. `fact`: as for name constants, without the `/`\n",
    "* code constants: code between matched curly braces `{` ... `}`\n",
    "* built-in operators on numbers: `add`, `sub`, `mul`, `div`, `eq`, `lt`, `gt`\n",
    "* built-in operators on boolean values: `and`, `or`, `not`; these take boolean operands only. Anything else is an error.\n",
    "* built-in sequencing operators: `if`, `ifelse`; make sure that you understand the order of the operands on the stack. Play with ghostscript if necessary to help understand what is happening.\n",
    "* stack operators: `dup`, `exch`, `pop`\n",
    "* dictionary creation operator: `dict`; takes one operand from the operand stack, ignores it, and creates a new, empty dictionary on the operand stack\n",
    "* dictionary stack manipulation operators: `begin`, `end`. `begin` requires one dictionary operand on the operand stack; `end` has no operands.\n",
    "* name definition operator: `def`. This requires two operands, a name and a value\n",
    "* defining (using `def`) and calling functions\n",
    "* stack printing operator (prints contents of stack without changing it): `stack`\n",
    "* top-of-stack printing operator (pops the top element of the stack and prints it): `=`\n"
   ]
  },
  {
   "cell_type": "markdown",
   "metadata": {},
   "source": [
    "## Requirements for Part 1 (Due Feb. 12)\n",
    "In Part 1 you will build some essential pieces of the interpreter but not yet the full interpreter. The pieces you build will be driven by Python test code rather than actual Postscript programs. The pieces you are going to build first are:\n",
    "* The operand stack\n",
    "* The dictionary stack\n",
    "* The operators that don't involve code arrays: all of the operators except `if`, `ifelse`.\n",
    "In Part 2 we will add the implementations for `if`, `ifelse`, calling functions, as well as interpreting input strings in the Postscript language.\n",
    "* Looking up names"
   ]
  },
  {
   "cell_type": "markdown",
   "metadata": {},
   "source": [
    "### The operand stack\n",
    "The operand stack should be implemented as a Python list. The list will contain **Python** integers, booleans, and strings, and later in Part 2 code arrays. Python integers and booleans on the stack represent Postscript integers and booleans. Python strings on the stack represent names of Postscript variables (see the handling of names and the `def` operator below.\n",
    "\n",
    "When using a list as a stack one of the decisions you have to make is where the *hot* end of the stack is located. (The *hot* end is where pushing and popping happens). Will the hot end be at position `0`, the head of the list, or at position `-1`, the end of the list? It's your choice."
   ]
  },
  {
   "cell_type": "markdown",
   "metadata": {},
   "source": [
    "### The dictionary stack\n",
    "The dictionary stack is also implemented as a Python list. It will contain **Python** dictionaries which will be the implementation for **Postscript** dictionaries. The dictionary stack needs to support adding and removing dictionaries at the hot end, as well as defining and looking up names. "
   ]
  },
  {
   "cell_type": "markdown",
   "metadata": {},
   "source": [
    "### Operators\n",
    "Operators will be implemented as zero-argument Python functions that manipulate the operand and dictionary stacks. For example, the `add` operator could be implemented as the Python function (with comments instead of actual implementations)\n",
    "```\n",
    "def add():\n",
    "    op1 = # pop the top value off the operand stack\n",
    "    op2 = # pop the top value off the operand stack\n",
    "    # push (op1 + op2) onto the operand stack\n",
    "```\n",
    "You may run into conflicts for some of the names of these functions . For example, the function for the `not` operator can't be named `not` because it is reserved for another use in Python. So you could do something like:\n",
    "```\n",
    "def psnot():\n",
    "    // pop the top value off the operand stack and push its negation onto the operand stack\n",
    "```    \n",
    "The `begin` and `end` operators are a little different in that they manipulate the dictionary stack in addition to or instead of the operand stack. Remember that the `dict` operator affects *only* the operand stack.\n",
    "\n",
    "The `def` operator takes two operands from the operand stack: a string (recall that strings in the operand stack represent names of postscript variables) and a value. It changes the dictionary at the hot end of the dictionary stack so that the string is mapped to the value by that dictionary. Notice that `def` does ***not*** change the number of dictionaries on the dictionary stack!\n",
    "\n",
    "### Name lookup\n",
    "\n",
    "Name lookup is implemented by a Python function:\n",
    "```\n",
    "def lookup(name):\n",
    "    # search the dictionaries on the dictionary stack starting at the hot end to find one that contains name\n",
    "    # return the value associated with name\n",
    "```\n",
    "Note that name lookup is ***not*** a Postscript operator, but it ***is*** implemented by a Python function."
   ]
  },
  {
   "cell_type": "markdown",
   "metadata": {},
   "source": [
    "## Your Code Start Here"
   ]
  },
  {
   "cell_type": "code",
   "execution_count": 20,
   "metadata": {
    "collapsed": false
   },
   "outputs": [],
   "source": [
    "# The operand stack: define the operand stack and its operations in this notebook cell\n",
    "opstack = []\n",
    "# other globals for me to use\n",
    "\n",
    "\n",
    "\n",
    "# now define functions to push and pop values on the opstack according to your decision about which\n",
    "# end should be the hot end. Recall that `pass` in python is a no-op: replace it with your code.\n",
    "\n",
    "def opPop(): \n",
    "    return opstack.pop()\n",
    "\n",
    "def opPush(value):\n",
    "    print(\"in opPush %s\" % value)\n",
    "    opstack.append(value)\n",
    "\n",
    "# Remember that there is a Postscript operator called \"pop\" so we choose different names for these functions.\n"
   ]
  },
  {
   "cell_type": "code",
   "execution_count": 21,
   "metadata": {
    "collapsed": true
   },
   "outputs": [],
   "source": [
    "# The dictionary stack: define the dictionary stack and its operations in this cell\n",
    "dstack = [{}]\n",
    "\n",
    "# now define functions to push and pop dictionaries on the dictstack, to define name, and to lookup a name\n",
    "\n",
    "def dictPop():\n",
    "    a = dstack.pop()\n",
    "    if(a == {}):\n",
    "        dictPush(a)\n",
    "        return {}\n",
    "    else:\n",
    "        return a\n",
    "    \n",
    "\n",
    "def dictPush(value):\n",
    "    dstack.append(value)\n",
    "\n",
    "def define(name, value):\n",
    "    a = opstack.pop()\n",
    "    b = opstack.pop()\n",
    "    x = dstack.pop()\n",
    "    x[b] = a\n",
    "    dstack.append(x)\n",
    "\n",
    "def lookup(name):\n",
    "    if type(name) == type(1):    \n",
    "        return name    \n",
    "    else:       \n",
    "        for a in dstack:\n",
    "            if(a == {}):\n",
    "                return None            \n",
    "            return a[name] #returns None if not found\n",
    "        "
   ]
  },
  {
   "cell_type": "code",
   "execution_count": 22,
   "metadata": {
    "collapsed": false
   },
   "outputs": [],
   "source": [
    "# Arithmetic operators: define all the arithmetic operators in this cell -- add, sub, mul, div, eq, lt, gt\n",
    "\n",
    "def Equal():\n",
    "    lookup(opstack.pop())\n",
    "\n",
    "\n",
    "def Add():\n",
    "    op2 = opPop()\n",
    "    op1 = opPop()\n",
    "    opPush(op1 + op2)\n",
    "    \n",
    "def Sub():\n",
    "    op2 = opPop()\n",
    "    op1 = opPop()\n",
    "    opPush(op1 - op2)\n",
    "\n",
    "def Mul():\n",
    "    op2 = opPop()\n",
    "    op1 = opPop()\n",
    "    opPush(op1 * op2)\n",
    "    \n",
    "def Div():\n",
    "    op2 = opPop()\n",
    "    op1 = opPop()\n",
    "    opPush(op1 / op2)\n",
    "    \n",
    "def EQ():\n",
    "    op2 = opPop()\n",
    "    op1 = opPop()\n",
    "    opPush(op1 == op2)\n",
    "\n",
    "    \n",
    "\n",
    "def Lt():\n",
    "    op2 = opPop()\n",
    "    op1 = opPop()\n",
    "    opPush(op1 < op2)\n",
    "\n",
    "def Gt():\n",
    "    op2 = opPop()\n",
    "    op1 = opPop()\n",
    "    opPush(op1 > op2)\n"
   ]
  },
  {
   "cell_type": "code",
   "execution_count": 23,
   "metadata": {
    "collapsed": true
   },
   "outputs": [],
   "source": [
    "# Boolean operators: define all the boolean operators in this cell -- and, or, not\n",
    "def And():\n",
    "    boolVal1 = opPop()\n",
    "    boolVal2 = opPop()\n",
    "    opPush (boolVal1 and boolVal2)\n",
    "\n",
    "def myOr():\n",
    "    boolVal1 = opPop()\n",
    "    boolVal2 = opPop()\n",
    "    opPush (boolVal1 or boolVal2)\n",
    "\n",
    "def Not():\n",
    "    boolVal1 = opPop()\n",
    "    opPush (not boolVal1)"
   ]
  },
  {
   "cell_type": "code",
   "execution_count": 24,
   "metadata": {
    "collapsed": true
   },
   "outputs": [],
   "source": [
    "# Define the stack manipulation operators in this cell: dup, exch, pop\n",
    "def Dup():\n",
    "    a = opstack.pop()\n",
    "    opstack.append(a)\n",
    "    opstack.append(a)\n",
    "    \n",
    "def Exch():\n",
    "    a = opstack.pop()\n",
    "    b = opstack.pop()\n",
    "    \n",
    "    opstack.append(a)\n",
    "    opstack.append(b)\n",
    "def Pop():\n",
    "    opstack.pop()"
   ]
  },
  {
   "cell_type": "code",
   "execution_count": 25,
   "metadata": {
    "collapsed": true
   },
   "outputs": [],
   "source": [
    "# Define the dictionary manipulation operators in this cell: dict, begin, end, def\n",
    "# name the function for the def operator psDef because def is reserved in Python\n",
    "def Dict():\n",
    "    # takes one operand from the operand stack, ignores it, and creates a new, empty dictionary on the operand stack\n",
    "    opstack.pop()\n",
    "    dstack.append({})\n",
    "    \n",
    "def Begin(d):\n",
    "    # begin pushes a dictionary on the dictionary stack\n",
    "    dstack.append(d)\n",
    "def End():\n",
    "    #  end removes a dictionary from the dictionary stack\n",
    "    dstack.pop()\n",
    "    \n",
    "def Def():\n",
    "    # def creates or modifies an entry in the top dictionary on the dictionary stack.\n",
    "    a = opstack.pop()\n",
    "    b = opstack.pop()\n",
    "    d = dstack.pop()\n",
    "    d[str(b)] = a\n",
    "    dstack.append(d)"
   ]
  },
  {
   "cell_type": "code",
   "execution_count": 26,
   "metadata": {
    "collapsed": true
   },
   "outputs": [],
   "source": [
    "# Define the IF ELSE and ELSEIF operators\n",
    "# ELSE will be handled in processLine\n",
    "\n",
    "def If():\n",
    "    #print (\"in IF before pop\")\n",
    "    stack()\n",
    "    l = opstack.pop()\n",
    "    b = opstack.pop()\n",
    "    if b:\n",
    "        print('was true : %s ' % l[1:-1])\n",
    "        processLine(l[1:-1])\n",
    "        \n",
    "        \n",
    "def ElseIf():\n",
    "    lf = opstack.pop()\n",
    "    lt = opstack.pop()\n",
    "    b = opstack.pop()\n",
    "    \n",
    "    if b == 'true':\n",
    "        processLine(lt[1:-1])\n",
    "    else:\n",
    "        processLine(lf[1:-1])\n",
    "        \n",
    "    \n",
    "    \n"
   ]
  },
  {
   "cell_type": "code",
   "execution_count": 27,
   "metadata": {
    "collapsed": false
   },
   "outputs": [],
   "source": [
    "# Define processLine\n",
    "def processLine(line):\n",
    "    var = ''\n",
    "    brace = ''\n",
    "    curly = False\n",
    "    \n",
    "    for c in line.split():\n",
    "        if c == '{': # begin of code array\n",
    "            brace = c\n",
    "            curly = True\n",
    "        elif curly:\n",
    "            brace +=' '\n",
    "            brace += c\n",
    "            if  c == '}':\n",
    "                curly = False\n",
    "                opstack.append(brace) # should be finishing up the final piece of code array here\n",
    "        elif c[0] == '/':\n",
    "            var = c[1:]\n",
    "            opstack.append(var)\n",
    "        elif c[0] >='0' and c[0] <= '9': #if a number\n",
    "            opstack.append(int(c))\n",
    "        else:\n",
    "            handleTheRest(c)"
   ]
  },
  {
   "cell_type": "code",
   "execution_count": 28,
   "metadata": {
    "collapsed": false
   },
   "outputs": [],
   "source": [
    "# Define the printing operators in this cell: stack, etc\n",
    "\n",
    "def printDstack():\n",
    "    if not dstack:\n",
    "        print (\"\\nEMPTY DICT STACK\\n\")\n",
    "        return\n",
    "    print ('******** T O P ********')\n",
    "    for element in reversed (dstack):\n",
    "        print (element)\n",
    "    print ('***** B O T T O M *****')\n",
    "    \n",
    "def stack():\n",
    "    if not opstack:\n",
    "        print (\"\\nEMPTY OPSTACK\\n\")\n",
    "        return\n",
    "    print ('******** T O P ********')\n",
    "    for element in reversed (opstack):\n",
    "        print (element)\n",
    "    print ('***** B O T T O M *****')\n",
    "    \n",
    "def PrintVal():\n",
    "    a = lookup(opstack.pop())\n",
    "    print (a)"
   ]
  },
  {
   "cell_type": "code",
   "execution_count": 29,
   "metadata": {
    "collapsed": false
   },
   "outputs": [],
   "source": [
    "def handleTheRest(token):\n",
    "    if token == '=': Equal()\n",
    "    elif token == 'and': And()\n",
    "    elif token == 'or' : Or()\n",
    "    elif token == 'eq' : EQ()\n",
    "    elif token == 'not': Not()\n",
    "    elif token == 'gt' : Gt()\n",
    "    elif token == 'lt' : Lt()\n",
    "    elif token == 'add': Add()\n",
    "    elif token == 'sub': Sub()\n",
    "    elif token == 'mul': Mul()\n",
    "    elif token == 'div': Div()\n",
    "    elif token == 'stack': PrintOP()\n",
    "    elif token == 'if': If()\n",
    "    elif token == 'ifelse': ElseIf()\n",
    "    elif token == 'begin': Begin()\n",
    "    elif token == 'dup': Dup()\n",
    "    elif token == 'exch': Exch()\n",
    "    elif token == 'pop': Pop()\n",
    "    elif token == 'def': Def()\n",
    "    elif token == 'end': End()\n",
    "        \n",
    "    else:\n",
    "        s = lookup(str(token))\n",
    "        if type(s) is not int:\n",
    "            if(s[0] == '{'):\n",
    "                processLine(s[1:-1])\n",
    "        else:\n",
    "            opstack.append(s)"
   ]
  },
  {
   "cell_type": "markdown",
   "metadata": {},
   "source": [
    "## Test your code\n",
    "With all of that stuff defined, you will be able to test your interpreter using Python code like this:"
   ]
  },
  {
   "cell_type": "code",
   "execution_count": 33,
   "metadata": {
    "collapsed": false
   },
   "outputs": [
    {
     "name": "stdout",
     "output_type": "stream",
     "text": [
      "\n",
      "EMPTY OPSTACK\n",
      "\n",
      "in opPush True\n",
      "******** T O P ********\n",
      "{ x 7 add }\n",
      "True\n",
      "***** B O T T O M *****\n",
      "was true :  x 7 add  \n",
      "in opPush 10\n",
      "******** T O P ********\n",
      "10\n",
      "***** B O T T O M *****\n",
      "******** T O P ********\n",
      "{'x': 3, 'y': 4}\n",
      "***** B O T T O M *****\n"
     ]
    }
   ],
   "source": [
    "opstack[:] = [] # clear the stack before our runs\n",
    "\n",
    "gs1 = \"/x 3 def\"\n",
    "gs2 = \"/y 4 def\"\n",
    "gs3 = \"x 4 lt\"\n",
    "stack() # WHY IS THIS EMPTY THOUGH?! UGH\n",
    "gs4 = \"{ x 7 add } if\"\n",
    "GS = [gs1, gs2, gs3, gs4]\n",
    "\n",
    "for x in GS:\n",
    "    processLine(x)\n",
    "    \n",
    "\n",
    "stack()\n",
    "#printDstack()"
   ]
  },
  {
   "cell_type": "markdown",
   "metadata": {
    "collapsed": true
   },
   "source": [
    "## Comment:\n",
    "- Correct Algorithm!\n",
    "- Good Coding Style!\n",
    "- Excellent Overall!\n",
    "- Good to see your own implementation. But remember it is not always read in one line of a real interpreter. For example in Python's interpreter. Users can input multi-lines' command via backslash \"\\\":\n",
    "```\n",
    "Python 3.5.1 (default, Dec  7 2015, 21:59:10)\n",
    "[GCC 4.2.1 Compatible Apple LLVM 7.0.0 (clang-700.1.76)] on darwin\n",
    "Type \"help\", \"copyright\", \"credits\" or \"license\" for more information.\n",
    ">>> 3 + 5 \\\n",
    "...   + 6\n",
    "14\n",
    ">>>\n",
    "```\n",
    "## Final Score = 100\n"
   ]
  },
  {
   "cell_type": "code",
   "execution_count": null,
   "metadata": {
    "collapsed": true
   },
   "outputs": [],
   "source": []
  }
 ],
 "metadata": {
  "kernelspec": {
   "display_name": "Python 3",
   "language": "python",
   "name": "python3"
  },
  "language_info": {
   "codemirror_mode": {
    "name": "ipython",
    "version": 3
   },
   "file_extension": ".py",
   "mimetype": "text/x-python",
   "name": "python",
   "nbconvert_exporter": "python",
   "pygments_lexer": "ipython3",
   "version": "3.5.1"
  }
 },
 "nbformat": 4,
 "nbformat_minor": 0
}
